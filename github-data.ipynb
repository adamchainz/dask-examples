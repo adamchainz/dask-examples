{
 "cells": [
  {
   "cell_type": "markdown",
   "metadata": {},
   "source": [
    "In this notebook we experiment with analyzing all the github data for 2015 using [dask](http://dask.pydata.org/en/latest/) ([github](https://github.com/continuumIO/dask)) for analysis.\n",
    "\n",
    "\n",
    "**Dask** is a tool for out-of-core, parallel data analysis. We will use [dask.bag](http://dask.pydata.org/en/latest/bag.html), which provides an api for operations on unordered lists (like sets but with duplicates). It is useful for semi-structured data like JSON blobs or log files. More blogposts about dask can be found [here](http://www.continuum.io/blog/tags/dask) or [here](http://matthewrocklin.com/blog/tags.html#dask-ref)."
   ]
  },
  {
   "cell_type": "markdown",
   "metadata": {},
   "source": [
    "### Github Archive Data on Google Cloud Storage\n",
    "\n",
    "We took data from [githubarchive.com](githubarchive.com), from January 2015 and put it in Google Cloud Storage so we can get free transfers between there, and google compute, which runs binder.\n",
    "\n",
    "Lets inspect the data first so we can find something to analyze and learn the data schema."
   ]
  },
  {
   "cell_type": "code",
   "execution_count": 1,
   "metadata": {
    "collapsed": false
   },
   "outputs": [
    {
     "name": "stdout",
     "output_type": "stream",
     "text": [
      "rm: cannot remove 'github-data.tar': No such file or directory\n",
      "converted 'https://storage.googleapis.com/blaze-data/github-data/github-data.tar' (ANSI_X3.4-1968) -> 'https://storage.googleapis.com/blaze-data/github-data/github-data.tar' (UTF-8)\n",
      "--2015-09-24 21:58:41--  https://storage.googleapis.com/blaze-data/github-data/github-data.tar\n",
      "Resolving storage.googleapis.com (storage.googleapis.com)... 74.125.69.128, 2607:f8b0:4001:c08::80\n",
      "Connecting to storage.googleapis.com (storage.googleapis.com)|74.125.69.128|:443... connected.\n",
      "HTTP request sent, awaiting response... 200 OK\n",
      "Length: 2822236160 (2.6G) [application/x-tar]\n",
      "Saving to: 'github-data.tar'\n",
      "\n",
      "github-data.tar     100%[=====================>]   2.63G  72.2MB/s   in 38s    \n",
      "\n",
      "2015-09-24 21:59:19 (71.3 MB/s) - 'github-data.tar' saved [2822236160/2822236160]\n",
      "\n"
     ]
    }
   ],
   "source": [
    "!rm github-data.tar\n",
    "!wget  https://storage.googleapis.com/blaze-data/github-data/github-data.tar"
   ]
  },
  {
   "cell_type": "code",
   "execution_count": 2,
   "metadata": {
    "collapsed": false
   },
   "outputs": [],
   "source": [
    "!tar xf github-data.tar  # takes about a minute"
   ]
  },
  {
   "cell_type": "code",
   "execution_count": 3,
   "metadata": {
    "collapsed": false
   },
   "outputs": [
    {
     "name": "stdout",
     "output_type": "stream",
     "text": [
      "2.7G\tdata/\r\n"
     ]
    }
   ],
   "source": [
    "!du -h data/"
   ]
  },
  {
   "cell_type": "markdown",
   "metadata": {},
   "source": [
    "### Inspect Data with `dask.bag`\n",
    "\n",
    "We have approximately 4.6 GB of data. One file per hour, averaging around 7.8 MB each (compressed). So we make a dask bag with the data and inspect it to figure out the schema."
   ]
  },
  {
   "cell_type": "code",
   "execution_count": 4,
   "metadata": {
    "collapsed": false
   },
   "outputs": [
    {
     "data": {
      "text/plain": [
       "24"
      ]
     },
     "execution_count": 4,
     "metadata": {},
     "output_type": "execute_result"
    }
   ],
   "source": [
    "from dask.diagnostics import ProgressBar\n",
    "import dask.bag as db\n",
    "import ujson as json\n",
    "\n",
    "# take one file from the bucket load it as a json object, note gz decompression\n",
    "# happens automatically at compute time.\n",
    "b = db.from_filenames('data/2015-01-01-*').map(json.loads)\n",
    "b.npartitions  # number of files"
   ]
  },
  {
   "cell_type": "code",
   "execution_count": 5,
   "metadata": {
    "collapsed": false
   },
   "outputs": [
    {
     "data": {
      "text/plain": [
       "{u'actor': {u'avatar_url': u'https://avatars.githubusercontent.com/u/9152315?',\n",
       "  u'gravatar_id': u'',\n",
       "  u'id': 9152315,\n",
       "  u'login': u'davidjhulse',\n",
       "  u'url': u'https://api.github.com/users/davidjhulse'},\n",
       " u'created_at': u'2015-01-01T00:00:00Z',\n",
       " u'id': u'2489368070',\n",
       " u'payload': {u'before': u'86ffa724b4d70fce46e760f8cc080f5ec3d7d85f',\n",
       "  u'commits': [{u'author': {u'email': u'david.hulse@live.com',\n",
       "     u'name': u'davidjhulse'},\n",
       "    u'distinct': True,\n",
       "    u'message': u'Altered BingBot.jar\\n\\nFixed issue with multiple account support',\n",
       "    u'sha': u'a9b22a6d80c1e0bb49c1cf75a3c075b642c28f81',\n",
       "    u'url': u'https://api.github.com/repos/davidjhulse/davesbingrewardsbot/commits/a9b22a6d80c1e0bb49c1cf75a3c075b642c28f81'}],\n",
       "  u'distinct_size': 1,\n",
       "  u'head': u'a9b22a6d80c1e0bb49c1cf75a3c075b642c28f81',\n",
       "  u'push_id': 536740396,\n",
       "  u'ref': u'refs/heads/master',\n",
       "  u'size': 1},\n",
       " u'public': True,\n",
       " u'repo': {u'id': 28635890,\n",
       "  u'name': u'davidjhulse/davesbingrewardsbot',\n",
       "  u'url': u'https://api.github.com/repos/davidjhulse/davesbingrewardsbot'},\n",
       " u'type': u'PushEvent'}"
      ]
     },
     "execution_count": 5,
     "metadata": {},
     "output_type": "execute_result"
    }
   ],
   "source": [
    "first = b.take(1)[0]  # take the first json object from the file\n",
    "first"
   ]
  },
  {
   "cell_type": "code",
   "execution_count": 6,
   "metadata": {
    "collapsed": false
   },
   "outputs": [
    {
     "data": {
      "text/plain": [
       "[u'payload', u'created_at', u'actor', u'public', u'repo', u'type', u'id']"
      ]
     },
     "execution_count": 6,
     "metadata": {},
     "output_type": "execute_result"
    }
   ],
   "source": [
    "first.keys()  # top level keys in this json object"
   ]
  },
  {
   "cell_type": "markdown",
   "metadata": {},
   "source": [
    "Type looks interesting. What are possible types and how often does each occur? We can inspect this with `dask.bag.frequencies`. But this takes longer because it requires a read of the entire dataset."
   ]
  },
  {
   "cell_type": "code",
   "execution_count": 7,
   "metadata": {
    "collapsed": false
   },
   "outputs": [
    {
     "name": "stdout",
     "output_type": "stream",
     "text": [
      "[########################################] | 100% Completed | 14.4s\n"
     ]
    },
    {
     "data": {
      "text/plain": [
       "[(u'ReleaseEvent', 816),\n",
       " (u'PublicEvent', 177),\n",
       " (u'PullRequestReviewCommentEvent', 2173),\n",
       " (u'ForkEvent', 7144),\n",
       " (u'MemberEvent', 474),\n",
       " (u'PullRequestEvent', 8735),\n",
       " (u'IssueCommentEvent', 17045),\n",
       " (u'PushEvent', 119242),\n",
       " (u'DeleteEvent', 3843),\n",
       " (u'CommitCommentEvent', 1399),\n",
       " (u'WatchEvent', 21939),\n",
       " (u'IssuesEvent', 9843),\n",
       " (u'CreateEvent', 23913),\n",
       " (u'GollumEvent', 2196)]"
      ]
     },
     "execution_count": 7,
     "metadata": {},
     "output_type": "execute_result"
    }
   ],
   "source": [
    "with ProgressBar():\n",
    "    res = b.pluck('type').frequencies().compute()\n",
    "res"
   ]
  },
  {
   "cell_type": "markdown",
   "metadata": {},
   "source": [
    "Top Committers\n",
    "----------------"
   ]
  },
  {
   "cell_type": "markdown",
   "metadata": {},
   "source": [
    "So most events are pushes, that is not surprising. Lets ask \"Who pushes the most?\".\n",
    "\n",
    "We do this by filtering out `PushEvent`s. Then we count the frequencies of usernames for the pushes. Then take the top 5."
   ]
  },
  {
   "cell_type": "code",
   "execution_count": 8,
   "metadata": {
    "collapsed": false
   },
   "outputs": [
    {
     "name": "stdout",
     "output_type": "stream",
     "text": [
      "[########################################] | 100% Completed | 13.7s\n"
     ]
    },
    {
     "data": {
      "text/plain": [
       "[(u'kinlane', 3843),\n",
       " (u'KenanSulayman', 1912),\n",
       " (u'mirror-updates', 1008),\n",
       " (u'qdm', 702),\n",
       " (u'greatfire', 576)]"
      ]
     },
     "execution_count": 8,
     "metadata": {},
     "output_type": "execute_result"
    }
   ],
   "source": [
    "pushes = b.filter(lambda x: x['type'] == 'PushEvent')  # filter out the push events\n",
    "names = pushes.pluck('actor').pluck('login') # get the login names\n",
    "top_5 = names.frequencies().topk(5, key=lambda (name, count): count)  # List top 5 pushers\n",
    "with ProgressBar():\n",
    "    res = top_5.compute()  # run the above computations\n",
    "res"
   ]
  },
  {
   "cell_type": "markdown",
   "metadata": {},
   "source": [
    "These users *pushed* the most, but push can have multiple commits. So we can ask \"who pushed the most *commits*?\".\n",
    "\n",
    "We can figure this out by grouping by username, then summing the number of commits from every push, for each user. More technically speaking, we want to `GroupBy` on usernames, so for each username we get a list their of PushEvents. Then reduce each `PushEvent` by taking a `count` of their commits. Then reducing these `count`s by `sum`ing them for each user. So we are grouping then reducing.\n",
    "\n",
    "However there are algorithms for grouping and reducing simultaneously which avoid expensive shuffle operations and are much faster. In dask bag we have `foldby`. Analogous methods: [`toolz.reduceby`]( https://toolz.readthedocs.io/en/latest/api.html#toolz.itertoolz.reduceby), and in pyspark [`RDD.combineByKey`](https://spark.apache.org/docs/latest/api/python/pyspark.html?#pyspark.RDD.combineByKey)."
   ]
  },
  {
   "cell_type": "code",
   "execution_count": 9,
   "metadata": {
    "collapsed": false,
    "scrolled": false
   },
   "outputs": [
    {
     "name": "stdout",
     "output_type": "stream",
     "text": [
      "[########################################] | 100% Completed | 12.5s\n"
     ]
    },
    {
     "data": {
      "text/plain": [
       "[(u'mirror-updates', 9912),\n",
       " (u'kinlane', 3843),\n",
       " (u'KenanSulayman', 1912),\n",
       " (u'qdm', 703),\n",
       " (u'greatfire', 576)]"
      ]
     },
     "execution_count": 9,
     "metadata": {},
     "output_type": "execute_result"
    }
   ],
   "source": [
    "def get_logins(x):\n",
    "    \"\"\"The key for foldby, like a groupby key. Get the username from a PushEvent\"\"\"\n",
    "    return x['actor']['login']\n",
    "\n",
    "def binop(total, x):\n",
    "    \"\"\"Count the number of commits in a PushEvent\"\"\"\n",
    "    return total + len(x['payload']['commits'])\n",
    "\n",
    "def combine(total1, total2):\n",
    "    \"\"\"This combines commit counts from PushEvents\"\"\"\n",
    "    return total1 + total2\n",
    "\n",
    "commits = pushes.foldby(get_logins, binop, initial=0, combine=combine)\n",
    "top_commits = commits.topk(5, key=lambda (name, count): count)\n",
    "with ProgressBar():\n",
    "    res = top_commits.compute()\n",
    "res"
   ]
  },
  {
   "cell_type": "markdown",
   "metadata": {},
   "source": [
    "We can verify this by visiting some of these github profiles:\n",
    "[kinlane](https://github.com/qdm), [KenanSulayman](https://github.com/KenanSulayman), [qdm](https://github.com/qdm). The \"mirror-updates\" user doesn't actually show any activity on these days."
   ]
  }
 ],
 "metadata": {
  "kernelspec": {
   "display_name": "Python 2",
   "language": "python",
   "name": "python2"
  },
  "language_info": {
   "codemirror_mode": {
    "name": "ipython",
    "version": 2
   },
   "file_extension": ".py",
   "mimetype": "text/x-python",
   "name": "python",
   "nbconvert_exporter": "python",
   "pygments_lexer": "ipython2",
   "version": "2.7.10"
  }
 },
 "nbformat": 4,
 "nbformat_minor": 0
}
